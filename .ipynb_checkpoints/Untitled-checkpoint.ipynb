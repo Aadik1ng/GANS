{
 "cells": [
  {
   "cell_type": "code",
   "execution_count": null,
   "id": "fe8909af",
   "metadata": {},
   "outputs": [],
   "source": [
    "import torch\n",
    "import torchvision\n",
    "from torchvision.transforms import ToTensor, Normalize, Compose\n",
    "from torchvision.datasets import MNIST\n",
    "\n",
    "#mnist = MNIST(root='data', \n",
    "              train=True, \n",
    "              download=True,\n",
    "              transform=Compose([ToTensor(), Normalize(mean=(0.5,), std=(0.5,))]))"
   ]
  },
  {
   "cell_type": "code",
   "execution_count": null,
   "id": "fc1b0cfb",
   "metadata": {},
   "outputs": [],
   "source": [
    "img, label = mnist[0]\n",
    "print('Label: ', label)\n",
    "print(img[:,10:15,10:15])\n",
    "torch.min(img), torch.max(img)\n"
   ]
  },
  {
   "cell_type": "code",
   "execution_count": null,
   "id": "044df44f",
   "metadata": {},
   "outputs": [],
   "source": [
    "def denorm(x):\n",
    "    out = (x + 1) / 2\n",
    "    return out.clamp(0, 1)"
   ]
  },
  {
   "cell_type": "code",
   "execution_count": null,
   "id": "33e43a73",
   "metadata": {},
   "outputs": [],
   "source": [
    "import matplotlib.pyplot as plt\n",
    "%matplotlib inline\n",
    "\n",
    "img_norm = denorm(img)\n",
    "plt.imshow(img_norm[0], cmap='gray')\n",
    "print('Label:', label)"
   ]
  },
  {
   "cell_type": "code",
   "execution_count": null,
   "id": "728618f0",
   "metadata": {},
   "outputs": [],
   "source": [
    "from torch.utils.data import DataLoader\n",
    "\n",
    "batch_size = 100\n",
    "data_loader = DataLoader(mnist, batch_size, shuffle=True)"
   ]
  },
  {
   "cell_type": "code",
   "execution_count": null,
   "id": "da9cc651",
   "metadata": {},
   "outputs": [],
   "source": [
    "for img_batch, label_batch in data_loader:\n",
    "    print('first batch')\n",
    "    print(img_batch.shape)\n",
    "    plt.imshow(img_batch[0][0], cmap='gray')\n",
    "    print(label_batch)\n",
    "    break"
   ]
  },
  {
   "cell_type": "code",
   "execution_count": null,
   "id": "a2cf70ed",
   "metadata": {},
   "outputs": [],
   "source": [
    "# Device configurationa\n",
    "device = torch.device('cuda' if torch.cuda.is_available() else 'cpu')"
   ]
  },
  {
   "cell_type": "code",
   "execution_count": null,
   "id": "09f70c5f",
   "metadata": {},
   "outputs": [],
   "source": [
    "device"
   ]
  },
  {
   "cell_type": "code",
   "execution_count": null,
   "id": "98690840",
   "metadata": {},
   "outputs": [],
   "source": [
    "image_size = 784\n",
    "hidden_size = 256"
   ]
  },
  {
   "cell_type": "code",
   "execution_count": null,
   "id": "af1b3cde",
   "metadata": {},
   "outputs": [],
   "source": [
    "import torch.nn as nn\n",
    "\n",
    "D = nn.Sequential(\n",
    "    nn.Linear(image_size, hidden_size),\n",
    "    nn.LeakyReLU(0.2),\n",
    "    nn.Linear(hidden_size, hidden_size),\n",
    "    nn.LeakyReLU(0.2),\n",
    "    nn.Linear(hidden_size, 1),\n",
    "    nn.Sigmoid())"
   ]
  },
  {
   "cell_type": "code",
   "execution_count": null,
   "id": "da96f619",
   "metadata": {},
   "outputs": [],
   "source": [
    "D.to(device);"
   ]
  },
  {
   "cell_type": "code",
   "execution_count": null,
   "id": "ad944df9",
   "metadata": {},
   "outputs": [],
   "source": [
    "latent_size = 64"
   ]
  },
  {
   "cell_type": "code",
   "execution_count": null,
   "id": "245a3be2",
   "metadata": {},
   "outputs": [],
   "source": [
    "G = nn.Sequential(\n",
    "    nn.Linear(latent_size, hidden_size),\n",
    "    nn.ReLU(),\n",
    "    nn.Linear(hidden_size, hidden_size),\n",
    "    nn.ReLU(),\n",
    "    nn.Linear(hidden_size, image_size),\n",
    "    nn.Tanh())"
   ]
  },
  {
   "cell_type": "code",
   "execution_count": null,
   "id": "d625bac1",
   "metadata": {},
   "outputs": [],
   "source": [
    "y = G(torch.randn(2, latent_size))\n",
    "gen_imgs = denorm(y.reshape((-1, 28,28)).detach())"
   ]
  },
  {
   "cell_type": "code",
   "execution_count": null,
   "id": "5c62a94f",
   "metadata": {},
   "outputs": [],
   "source": [
    "plt.imshow(gen_imgs[0], cmap='gray');"
   ]
  },
  {
   "cell_type": "code",
   "execution_count": null,
   "id": "178e2b78",
   "metadata": {},
   "outputs": [],
   "source": [
    "plt.imshow(gen_imgs[1], cmap='gray');"
   ]
  },
  {
   "cell_type": "code",
   "execution_count": null,
   "id": "568af54b",
   "metadata": {},
   "outputs": [],
   "source": [
    "G.to(device);"
   ]
  },
  {
   "cell_type": "code",
   "execution_count": null,
   "id": "ea465df1",
   "metadata": {},
   "outputs": [],
   "source": [
    "criterion = nn.BCELoss()\n",
    "d_optimizer = torch.optim.Adam(D.parameters(), lr=0.0002)"
   ]
  },
  {
   "cell_type": "code",
   "execution_count": null,
   "id": "32d052d0",
   "metadata": {},
   "outputs": [],
   "source": [
    "def reset_grad():\n",
    "    d_optimizer.zero_grad()\n",
    "    g_optimizer.zero_grad()\n",
    "\n",
    "def train_discriminator(images):\n",
    "    # Create the labels which are later used as input for the BCE loss\n",
    "    real_labels = torch.ones(batch_size, 1).to(device)\n",
    "    fake_labels = torch.zeros(batch_size, 1).to(device)\n",
    "        \n",
    "    # Loss for real images\n",
    "    outputs = D(images)\n",
    "    d_loss_real = criterion(outputs, real_labels)\n",
    "    real_score = outputs\n",
    "\n",
    "    # Loss for fake images\n",
    "    z = torch.randn(batch_size, latent_size).to(device)\n",
    "    fake_images = G(z)\n",
    "    outputs = D(fake_images)\n",
    "    d_loss_fake = criterion(outputs, fake_labels)\n",
    "    fake_score = outputs\n",
    "\n",
    "    # Combine losses\n",
    "    d_loss = d_loss_real + d_loss_fake\n",
    "    # Reset gradients\n",
    "    reset_grad()\n",
    "    # Compute gradients\n",
    "    d_loss.backward()\n",
    "    # Adjust the parameters using backprop\n",
    "    d_optimizer.step()\n",
    "    \n",
    "    return d_loss, real_score, fake_score"
   ]
  },
  {
   "cell_type": "code",
   "execution_count": null,
   "id": "d0dfd23e",
   "metadata": {},
   "outputs": [],
   "source": [
    "g_optimizer = torch.optim.Adam(G.parameters(), lr=0.0002)"
   ]
  },
  {
   "cell_type": "code",
   "execution_count": null,
   "id": "578c753a",
   "metadata": {},
   "outputs": [],
   "source": [
    "def train_generator():\n",
    "    # Generate fake images and calculate loss\n",
    "    z = torch.randn(batch_size, latent_size).to(device)\n",
    "    fake_images = G(z)\n",
    "    labels = torch.ones(batch_size, 1).to(device)\n",
    "    g_loss = criterion(D(fake_images), labels)\n",
    "\n",
    "    # Backprop and optimize\n",
    "    reset_grad()\n",
    "    g_loss.backward()\n",
    "    g_optimizer.step()\n",
    "    return g_loss, fake_images"
   ]
  },
  {
   "cell_type": "code",
   "execution_count": null,
   "id": "f04619c7",
   "metadata": {},
   "outputs": [],
   "source": [
    "import os\n",
    "\n",
    "sample_dir = 'samples'\n",
    "if not os.path.exists(sample_dir):\n",
    "    os.makedirs(sample_dir)"
   ]
  },
  {
   "cell_type": "code",
   "execution_count": null,
   "id": "327e6f0d",
   "metadata": {},
   "outputs": [],
   "source": [
    "from IPython.display import Image\n",
    "from torchvision.utils import save_image\n",
    "\n",
    "# Save some real images\n",
    "for images, _ in data_loader:\n",
    "    images = images.reshape(images.size(0), 1, 28, 28)\n",
    "    save_image(denorm(images), os.path.join(sample_dir, 'real_images.png'), nrow=10)\n",
    "    break\n",
    "   \n",
    "Image(os.path.join(sample_dir, 'real_images.png'))"
   ]
  },
  {
   "cell_type": "code",
   "execution_count": null,
   "id": "861968e9",
   "metadata": {},
   "outputs": [],
   "source": [
    "sample_vectors = torch.randn(batch_size, latent_size).to(device)\n",
    "\n",
    "def save_fake_images(index):\n",
    "    fake_images = G(sample_vectors)\n",
    "    fake_images = fake_images.reshape(fake_images.size(0), 1, 28, 28)\n",
    "    fake_fname = 'fake_images-{0:0=4d}.png'.format(index)\n",
    "    print('Saving', fake_fname)\n",
    "    save_image(denorm(fake_images), os.path.join(sample_dir, fake_fname), nrow=10)\n",
    "    \n",
    "# Before training\n",
    "save_fake_images(0)\n",
    "Image(os.path.join(sample_dir, 'fake_images-0000.png'))"
   ]
  },
  {
   "cell_type": "code",
   "execution_count": null,
   "id": "798e499c",
   "metadata": {},
   "outputs": [],
   "source": [
    "%%time\n",
    "\n",
    "num_epochs = 300\n",
    "total_step = len(data_loader)\n",
    "d_losses, g_losses, real_scores, fake_scores = [], [], [], []\n",
    "\n",
    "for epoch in range(num_epochs):\n",
    "    for i, (images, _) in enumerate(data_loader):\n",
    "        # Load a batch & transform to vectors\n",
    "        images = images.reshape(batch_size, -1).to(device)\n",
    "        \n",
    "        # Train the discriminator and generator\n",
    "        d_loss, real_score, fake_score = train_discriminator(images)\n",
    "        g_loss, fake_images = train_generator()\n",
    "        \n",
    "        # Inspect the losses\n",
    "        if (i+1) % 200 == 0:\n",
    "            d_losses.append(d_loss.item())\n",
    "            g_losses.append(g_loss.item())\n",
    "            real_scores.append(real_score.mean().item())\n",
    "            fake_scores.append(fake_score.mean().item())\n",
    "            print('Epoch [{}/{}], Step [{}/{}], d_loss: {:.4f}, g_loss: {:.4f}, D(x): {:.2f}, D(G(z)): {:.2f}' \n",
    "                  .format(epoch, num_epochs, i+1, total_step, d_loss.item(), g_loss.item(), \n",
    "                          real_score.mean().item(), fake_score.mean().item()))\n",
    "        \n",
    "    # Sample and save images\n",
    "    save_fake_images(epoch+1)"
   ]
  },
  {
   "cell_type": "code",
   "execution_count": null,
   "id": "aa170e8c",
   "metadata": {},
   "outputs": [],
   "source": [
    "# Save the model checkpoints \n",
    "torch.save(G.state_dict(), 'G.ckpt')\n",
    "torch.save(D.state_dict(), 'D.ckpt')"
   ]
  },
  {
   "cell_type": "code",
   "execution_count": null,
   "id": "950bf726",
   "metadata": {},
   "outputs": [],
   "source": [
    "Image('./samples/fake_images-0010.png')"
   ]
  },
  {
   "cell_type": "code",
   "execution_count": null,
   "id": "fb523cf5",
   "metadata": {},
   "outputs": [],
   "source": [
    "Image('./samples/fake_images-0050.png')"
   ]
  },
  {
   "cell_type": "code",
   "execution_count": null,
   "id": "105deb96",
   "metadata": {},
   "outputs": [],
   "source": [
    "import cv2\n",
    "import os\n",
    "from IPython.display import FileLink\n",
    "\n",
    "vid_fname = 'gans_training.avi'\n",
    "\n",
    "files = [os.path.join(sample_dir, f) for f in os.listdir(sample_dir) if 'fake_images' in f]\n",
    "files.sort()\n",
    "\n",
    "out = cv2.VideoWriter(vid_fname,cv2.VideoWriter_fourcc(*'MP4V'), 8, (302,302))\n",
    "[out.write(cv2.imread(fname)) for fname in files]\n",
    "out.release()\n",
    "FileLink('gans_training.avi')"
   ]
  },
  {
   "cell_type": "code",
   "execution_count": null,
   "id": "5411a18c",
   "metadata": {},
   "outputs": [],
   "source": [
    "plt.plot(d_losses, '-')\n",
    "plt.plot(g_losses, '-')\n",
    "plt.xlabel('epoch')\n",
    "plt.ylabel('loss')\n",
    "plt.legend(['Discriminator', 'Generator'])\n",
    "plt.title('Losses');"
   ]
  },
  {
   "cell_type": "code",
   "execution_count": null,
   "id": "a6e76c6b",
   "metadata": {},
   "outputs": [],
   "source": [
    "plt.plot(real_scores, '-')\n",
    "plt.plot(fake_scores, '-')\n",
    "plt.xlabel('epoch')\n",
    "plt.ylabel('score')\n",
    "plt.legend(['Real Score', 'Fake score'])\n",
    "plt.title('Scores');"
   ]
  },
  {
   "cell_type": "code",
   "execution_count": null,
   "id": "b0b288ba",
   "metadata": {},
   "outputs": [],
   "source": [
    "gdd"
   ]
  },
  {
   "cell_type": "code",
   "execution_count": null,
   "id": "95689a75",
   "metadata": {},
   "outputs": [],
   "source": []
  },
  {
   "cell_type": "code",
   "execution_count": null,
   "id": "3fb5dfa7",
   "metadata": {},
   "outputs": [],
   "source": []
  },
  {
   "cell_type": "code",
   "execution_count": null,
   "id": "71c94564",
   "metadata": {},
   "outputs": [],
   "source": []
  },
  {
   "cell_type": "code",
   "execution_count": null,
   "id": "ea604001",
   "metadata": {},
   "outputs": [],
   "source": []
  },
  {
   "cell_type": "code",
   "execution_count": null,
   "id": "e077d645",
   "metadata": {},
   "outputs": [],
   "source": []
  },
  {
   "cell_type": "code",
   "execution_count": null,
   "id": "05c30b35",
   "metadata": {},
   "outputs": [],
   "source": []
  },
  {
   "cell_type": "code",
   "execution_count": null,
   "id": "f2b6ffb7",
   "metadata": {},
   "outputs": [],
   "source": []
  },
  {
   "cell_type": "code",
   "execution_count": null,
   "id": "8302991e",
   "metadata": {},
   "outputs": [],
   "source": []
  },
  {
   "cell_type": "code",
   "execution_count": null,
   "id": "0f75c611",
   "metadata": {},
   "outputs": [],
   "source": []
  },
  {
   "cell_type": "code",
   "execution_count": null,
   "id": "0640d508",
   "metadata": {},
   "outputs": [],
   "source": []
  },
  {
   "cell_type": "code",
   "execution_count": null,
   "id": "8fdc2752",
   "metadata": {},
   "outputs": [],
   "source": []
  },
  {
   "cell_type": "code",
   "execution_count": null,
   "id": "43f573cc",
   "metadata": {},
   "outputs": [],
   "source": []
  },
  {
   "cell_type": "code",
   "execution_count": null,
   "id": "586aca2b",
   "metadata": {},
   "outputs": [],
   "source": []
  },
  {
   "cell_type": "code",
   "execution_count": null,
   "id": "435af4c7",
   "metadata": {},
   "outputs": [],
   "source": []
  }
 ],
 "metadata": {
  "kernelspec": {
   "display_name": "Python 3 (ipykernel)",
   "language": "python",
   "name": "python3"
  },
  "language_info": {
   "codemirror_mode": {
    "name": "ipython",
    "version": 3
   },
   "file_extension": ".py",
   "mimetype": "text/x-python",
   "name": "python",
   "nbconvert_exporter": "python",
   "pygments_lexer": "ipython3",
   "version": "3.10.9"
  }
 },
 "nbformat": 4,
 "nbformat_minor": 5
}
